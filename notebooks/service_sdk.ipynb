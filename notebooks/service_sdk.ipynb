{
 "cells": [
  {
   "metadata": {},
   "cell_type": "markdown",
   "source": "<a href=\"https://colab.research.google.com/github/ckrieger/qiskit-fall-fest-2025/blob/main/notebooks/service_sdk.ipynb\" target=\"_parent\"><img src=\"https://colab.research.google.com/assets/colab-badge.svg\" alt=\"Open In Colab\"/></a>",
   "id": "90866b2546913d99"
  },
  {
   "metadata": {},
   "cell_type": "markdown",
   "source": [
    "# Using the service SDK\n",
    "\n",
    "The Service SDK provides an easy way to interact [Managed Services](https://docs.planqk.de/services/managed/introduction.html) on the Kipu Quantum Hub.\n",
    "Managed Services enable you to run your quantum code on-demand without needing to manage your own infrastructure, provision servers, or upgrade hardware.\n",
    "You can either run your own previously deployed services or run services from the [Marketplace](https://hub.kipu-quantum.com/marketplace/services).\n",
    "\n",
    "You can find a detailed reference of the Service SDK in the [official documentation](https://docs.planqk.de/sdk-reference-service.html).\n",
    "\n",
    "In this notebook, we will demonstrate how to use the Service SDK to interact with a Service. For this example, we will use the \"Illay Base Quantum Optimizer\" service from the Marketplace.\n",
    "Later you can replace it with your own services.\n",
    "\n",
    "Start by installing the Service SDK if you haven't done so already."
   ],
   "id": "505ab219ffb4dc76"
  },
  {
   "metadata": {},
   "cell_type": "code",
   "source": "pip install --upgrade planqk-service-sdk",
   "id": "bb19b5dcf3fd9d0e",
   "outputs": [],
   "execution_count": null
  },
  {
   "metadata": {},
   "cell_type": "markdown",
   "source": "Prepare the consumer key and consumer secret by subscribing to this service using an [Application](https://dashboard.hub.kipu-quantum.com/applications).",
   "id": "aa3e79fd948efb79"
  },
  {
   "metadata": {},
   "cell_type": "markdown",
   "source": "Now, we are ready to use the Service SDK to interact with the \"Illay Base Quantum Optimizer\" service.",
   "id": "fbebaaed0b1a626"
  },
  {
   "metadata": {},
   "cell_type": "code",
   "source": [
    "from planqk.service.client import PlanqkServiceClient\n",
    "\n",
    "consumer_key = \"your_consumer_key_here\"\n",
    "consumer_secret = \"your_consumer_secret_here\"\n",
    "service_endpoint = \"https://gateway.platform.planqk.de/kipu-quantum/illay-base-quantum-optimizer/1.0.0\"\n",
    "\n",
    "# Create a client\n",
    "client = PlanqkServiceClient(service_endpoint, consumer_key, consumer_secret)\n",
    "\n",
    "# Prepare your service input\n",
    "# Example request body extracted from the service's OpenAPI description\n",
    "request = {\n",
    "    \"problem\": {\n",
    "        \"(0, 7)\": 0.5,\n",
    "        \"(0, 6)\": 0.5,\n",
    "        \"(0, 5)\": 0.5,\n",
    "        \"(1, 2)\": 0.5,\n",
    "        \"(1, 3)\": 0.5,\n",
    "        \"(1, 5)\": 0.5,\n",
    "        \"(2, 3)\": 0.5,\n",
    "        \"(2, 8)\": 0.5,\n",
    "        \"(3, 8)\": 0.5,\n",
    "        \"(4, 9)\": 0.5,\n",
    "        \"(4, 6)\": 0.5,\n",
    "        \"(4, 7)\": 0.5,\n",
    "        \"(5, 8)\": 0.5,\n",
    "        \"(6, 9)\": 0.5,\n",
    "        \"(7, 9)\": 0.5,\n",
    "        \"()\": -7.5\n",
    "    },\n",
    "    \"problem_type\": \"spin\",\n",
    "    \"shots\": 1000,\n",
    "    \"num_greedy_passes\": 0,\n",
    "    \"return_circuit\": False,\n",
    "    \"execute_circuit\": True\n",
    "}\n",
    "\n",
    "\n",
    "# Start a service execution\n",
    "service_execution = client.run(request=request)\n",
    "\n",
    "# Wait for the service execution to finish (blocking)\n",
    "service_execution.wait_for_final_state()\n",
    "\n",
    "# Retrieve the result\n",
    "result = service_execution.result()"
   ],
   "id": "898757cea6e4fd9",
   "outputs": [],
   "execution_count": null
  },
  {
   "metadata": {},
   "cell_type": "markdown",
   "source": "After executing the service, you will see a new Service Execution in your Kipu Quantum Hub account under the \"[Service Executions](https://dashboard.hub.kipu-quantum.com/service-executions)\" tab.",
   "id": "891d35778e0411b9"
  }
 ],
 "metadata": {
  "kernelspec": {
   "display_name": "Python 3",
   "language": "python",
   "name": "python3"
  },
  "language_info": {
   "codemirror_mode": {
    "name": "ipython",
    "version": 2
   },
   "file_extension": ".py",
   "mimetype": "text/x-python",
   "name": "python",
   "nbconvert_exporter": "python",
   "pygments_lexer": "ipython2",
   "version": "2.7.6"
  }
 },
 "nbformat": 4,
 "nbformat_minor": 5
}
