{
 "nbformat": 4,
 "nbformat_minor": 0,
 "metadata": {
  "colab": {
   "provenance": [],
   "authorship_tag": "ABX9TyOmuLhSGV0sL601UFLJr8wS",
   "include_colab_link": true
  },
  "kernelspec": {
   "name": "python3",
   "display_name": "Python 3 (ipykernel)",
   "language": "python"
  },
  "language_info": {
   "name": "python"
  }
 },
 "cells": [
  {
   "cell_type": "markdown",
   "metadata": {
    "id": "view-in-github",
    "colab_type": "text"
   },
   "source": [
    "<a href=\"https://colab.research.google.com/github/ckrieger/qiskit-fall-fest-2025/blob/main/coin_toss.ipynb\" target=\"_parent\"><img src=\"https://colab.research.google.com/assets/colab-badge.svg\" alt=\"Open In Colab\"/></a>"
   ]
  },
  {
   "cell_type": "markdown",
   "source": [
    "# Quickstart\n",
    "\n",
    "This Notebook provides a crash course on running your first quantum program via the Kipu Quantum Hub.\n",
    "\n",
    "## Setup\n",
    "\n",
    "First of all, [create an account](https://hub.kipu-quantum.com) if you don't have one yet.\n",
    "\n",
    "Next, install the Quantum SDK. The Quantum SDK provides an easy way to develop quantum circuits that can be executed on quantum backends/devices available through Kipu Quantum Hub."
   ],
   "metadata": {
    "id": "fYpM-9GT_Z0Q"
   }
  },
  {
   "cell_type": "code",
   "source": "pip install planqk-quantum",
   "metadata": {
    "colab": {
     "base_uri": "https://localhost:8080/"
    },
    "id": "TqbEWMua_LlM",
    "outputId": "63ae85da-e031-40d0-962c-73887833516d"
   },
   "outputs": [],
   "execution_count": null
  },
  {
   "cell_type": "markdown",
   "source": [
    "## Run your first quantum program using Qiskit\n",
    "To run a Qiskit program, all you need is an account and three lines of Quantum code.\n"
   ],
   "metadata": {
    "id": "pcQwPEyO_PTU"
   }
  },
  {
   "metadata": {},
   "cell_type": "markdown",
   "source": "First import the PlanqkQuantumProvider from the planqk.qiskit module and set your personal access token as an environment variable."
  },
  {
   "metadata": {},
   "cell_type": "code",
   "source": [
    "from planqk.qiskit import PlanqkQuantumProvider\n",
    "import os\n",
    "\n",
    "access_token=os.getenv('PLANQK_PERSONAL_ACCESS_TOKEN', 'your_access_token_here')\n",
    "provider = PlanqkQuantumProvider(access_token=access_token)"
   ],
   "outputs": [],
   "execution_count": null
  },
  {
   "metadata": {},
   "cell_type": "markdown",
   "source": "Let's explore the backends available to you via the Kipu Quantum Hub."
  },
  {
   "metadata": {},
   "cell_type": "code",
   "source": [
    "backends = provider.backends()\n",
    "for backend in backends:\n",
    "    print(backend)"
   ],
   "outputs": [],
   "execution_count": null
  },
  {
   "metadata": {},
   "cell_type": "markdown",
   "source": "You can also get more information about a specific backend, e.g. the IonQ Simulator."
  },
  {
   "metadata": {},
   "cell_type": "code",
   "source": [
    "backend = provider.get_backend(\"azure.ionq.simulator\")\n",
    "backend_info = backend.backend_info\n",
    "\n",
    "print(backend.description)\n",
    "print(backend_info.availability)"
   ],
   "outputs": [],
   "execution_count": null
  },
  {
   "metadata": {},
   "cell_type": "markdown",
   "source": [
    " Next, let's run our first quantum algorithm on the IonQ Simular.\n",
    " In the example, we build a circuit that performs n coin tosses on a Quantum Computer.\n",
    " Instead of heads and tails, we work with 0s and 1s: there are 2^n possible outcomes, and each time (number of shots) we measure the quantum state, we observe one of these outcomes."
   ]
  },
  {
   "cell_type": "code",
   "source": [
    "from qiskit import QuantumCircuit, transpile\n",
    "\n",
    "n_coin_tosses = 2\n",
    "\n",
    "circuit = QuantumCircuit(n_coin_tosses)\n",
    "for i in range(n_coin_tosses):\n",
    "    circuit.h(i)\n",
    "circuit.measure_all()\n",
    "\n",
    "backend = provider.get_backend(\"azure.ionq.simulator\")\n",
    "\n",
    "circuit = transpile(circuit, backend)\n",
    "job = backend.run(circuit, shots=100)\n",
    "\n",
    "counts = job.result().get_counts()\n",
    "\n",
    "print(counts)"
   ],
   "metadata": {
    "colab": {
     "base_uri": "https://localhost:8080/"
    },
    "id": "hCXZBjLcAjHt",
    "outputId": "6fecc851-52e6-4e9b-f980-703d6e856ea9"
   },
   "outputs": [],
   "execution_count": null
  },
  {
   "metadata": {},
   "cell_type": "markdown",
   "source": "List all jobs you have submitted to the Kipu Quantum Hub and retrieve a specific job by its ID."
  },
  {
   "metadata": {},
   "cell_type": "code",
   "source": [
    "## List all jobs\n",
    "jobs = provider.jobs()\n",
    "for job in jobs:\n",
    "    print(job)\n",
    "\n",
    "\n",
    "## Retrieve a specific job by its ID\n",
    "job = provider.retrieve_job(jobs[0].id)\n",
    "print(f\"Status: {job.status()}\")\n"
   ],
   "outputs": [],
   "execution_count": null
  }
 ]
}
