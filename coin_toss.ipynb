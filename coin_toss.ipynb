{
 "nbformat": 4,
 "nbformat_minor": 0,
 "metadata": {
  "colab": {
   "provenance": [],
   "authorship_tag": "ABX9TyOmuLhSGV0sL601UFLJr8wS",
   "include_colab_link": true
  },
  "kernelspec": {
   "name": "python3",
   "display_name": "Python 3 (ipykernel)",
   "language": "python"
  },
  "language_info": {
   "name": "python"
  }
 },
 "cells": [
  {
   "cell_type": "markdown",
   "metadata": {
    "id": "view-in-github",
    "colab_type": "text"
   },
   "source": [
    "<a href=\"https://colab.research.google.com/github/ckrieger/qiskit-fall-fest-2025/blob/main/coin_toss.ipynb\" target=\"_parent\"><img src=\"https://colab.research.google.com/assets/colab-badge.svg\" alt=\"Open In Colab\"/></a>"
   ]
  },
  {
   "cell_type": "markdown",
   "source": [
    "# Quickstart\n",
    "\n",
    "This Notebook provides a crash course on running your first quantum program via the Kipu Quantum Hub.\n",
    "\n",
    "## Setup\n",
    "\n",
    "First of all, [create an account](https://hub.kipu-quantum.com) if you don't have one yet.\n",
    "\n",
    "Next, install the Quantum SDK. The Quantum SDK provides an easy way to develop quantum circuits that can be executed on quantum backends/devices available through Kipu Quantum Hub."
   ],
   "metadata": {
    "id": "fYpM-9GT_Z0Q"
   }
  },
  {
   "cell_type": "code",
   "source": [
    "from IPython.terminal.shortcuts.auto_suggest import accept\n",
    "from debugpy.adapter import access_token\n",
    "\n",
    "pip install --upgrade planqk-quantum"
   ],
   "metadata": {
    "colab": {
     "base_uri": "https://localhost:8080/"
    },
    "id": "TqbEWMua_LlM",
    "outputId": "63ae85da-e031-40d0-962c-73887833516d"
   },
   "outputs": [],
   "execution_count": null
  },
  {
   "cell_type": "markdown",
   "source": [
    "## Run your first quantum program using Qiskit\n",
    "To run a Qiskit program, all you need is an account and three lines of Quantum code.\n"
   ],
   "metadata": {
    "id": "pcQwPEyO_PTU"
   }
  },
  {
   "metadata": {},
   "cell_type": "markdown",
   "source": "First import the PlanqkQuantumProvider from the planqk.qiskit module and set your personal access token as an environment variable."
  },
  {
   "metadata": {
    "ExecuteTime": {
     "end_time": "2025-10-28T14:37:54.451276Z",
     "start_time": "2025-10-28T14:37:54.447829Z"
    }
   },
   "cell_type": "code",
   "source": [
    "from planqk.qiskit import PlanqkQuantumProvider\n",
    "import os\n",
    "\n",
    "access_token=os.getenv(\"PLANQK_PERSONAL_ACCESS_TOKEN\", \"your_access_token_here\")\n",
    "provider = PlanqkQuantumProvider(access_token=access_token)"
   ],
   "outputs": [],
   "execution_count": 5
  },
  {
   "metadata": {},
   "cell_type": "markdown",
   "source": "Let's explore the backends available to you via the Kipu Quantum Hub."
  },
  {
   "metadata": {
    "ExecuteTime": {
     "end_time": "2025-10-28T14:37:56.921577Z",
     "start_time": "2025-10-28T14:37:56.587709Z"
    }
   },
   "cell_type": "code",
   "source": [
    "backends = provider.backends()\n",
    "for backend in backends:\n",
    "    print(backend)"
   ],
   "outputs": [
    {
     "name": "stdout",
     "output_type": "stream",
     "text": [
      "aws.sim.dm1\n",
      "aws.sim.sv1\n",
      "aws.ionq.aria\n",
      "aws.ionq.aria-2\n",
      "aws.ionq.forte\n",
      "aws.quera.aquila\n",
      "aws.iqm.garnet\n",
      "aws.rigetti.ankaa\n",
      "azure.ionq.simulator\n",
      "iqm.qpu.emerald\n",
      "qryd.sim.square\n",
      "qryd.sim.triangle\n",
      "qudora.sim.xg1\n"
     ]
    }
   ],
   "execution_count": 6
  },
  {
   "cell_type": "code",
   "source": [
    "\n",
    "\n",
    "from qiskit import QuantumCircuit, transpile\n",
    "\n",
    "n_coin_tosses = 2\n",
    "\n",
    "circuit = QuantumCircuit(n_coin_tosses)\n",
    "for i in range(n_coin_tosses):\n",
    "    circuit.h(i)\n",
    "circuit.measure_all()\n",
    "\n",
    "# Alternatively, you can pass the access token as an argument to the constructor\n",
    "# provider = PlanqkQuantumProvider(access_token=access_token)\n",
    "provider = PlanqkQuantumProvider()\n",
    "\n",
    "# Select a quantum backend suitable for the task. All PLANQK supported quantum backends are\n",
    "# listed at https://platform.planqk.de/quantum-backends.\n",
    "backend = provider.get_backend(\"azure.ionq.simulator\")\n",
    "\n",
    "# Transpile the circuit ...\n",
    "circuit = transpile(circuit, backend)\n",
    "# ... and run it on the backend\n",
    "job = backend.run(circuit, shots=100)\n",
    "\n",
    "counts = job.result().get_counts()\n",
    "\n",
    "print(counts)"
   ],
   "metadata": {
    "colab": {
     "base_uri": "https://localhost:8080/"
    },
    "id": "hCXZBjLcAjHt",
    "outputId": "6fecc851-52e6-4e9b-f980-703d6e856ea9",
    "ExecuteTime": {
     "end_time": "2025-10-28T14:35:54.651462Z",
     "start_time": "2025-10-28T14:35:32.509512Z"
    }
   },
   "outputs": [
    {
     "name": "stdout",
     "output_type": "stream",
     "text": [
      "{np.str_('00'): np.int64(21), np.str_('01'): np.int64(25), np.str_('10'): np.int64(29), np.str_('11'): np.int64(25)}\n"
     ]
    }
   ],
   "execution_count": 12
  },
  {
   "metadata": {},
   "cell_type": "code",
   "outputs": [],
   "execution_count": null,
   "source": ""
  },
  {
   "metadata": {},
   "cell_type": "code",
   "outputs": [],
   "execution_count": null,
   "source": ""
  }
 ]
}
