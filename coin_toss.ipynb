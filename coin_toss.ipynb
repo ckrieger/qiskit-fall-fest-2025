{
  "nbformat": 4,
  "nbformat_minor": 0,
  "metadata": {
    "colab": {
      "provenance": [],
      "authorship_tag": "ABX9TyOmuLhSGV0sL601UFLJr8wS",
      "include_colab_link": true
    },
    "kernelspec": {
      "name": "python3",
      "display_name": "Python 3"
    },
    "language_info": {
      "name": "python"
    }
  },
  "cells": [
    {
      "cell_type": "markdown",
      "metadata": {
        "id": "view-in-github",
        "colab_type": "text"
      },
      "source": [
        "<a href=\"https://colab.research.google.com/github/ckrieger/qiskit-fall-fest-2025/blob/main/coin_toss.ipynb\" target=\"_parent\"><img src=\"https://colab.research.google.com/assets/colab-badge.svg\" alt=\"Open In Colab\"/></a>"
      ]
    },
    {
      "cell_type": "markdown",
      "source": [
        "# Quickstart\n",
        "\n",
        "This Notebook provides a crash course on running your first quantum program via the Kipu Quantum Hub.\n",
        "\n",
        "## Setup\n",
        "\n",
        "First of all, [create an account](https://hub.kipu-quantum.com) if you don't have one yet.\n",
        "\n",
        "Next, install the Quantum SDK. The Quantum SDK provides an easy way to develop quantum circuits that can be executed on quantum backends/devices available through Kipu Quantum Hub."
      ],
      "metadata": {
        "id": "fYpM-9GT_Z0Q"
      }
    },
    {
      "cell_type": "code",
      "source": [
        "pip install --upgrade planqk-quantum"
      ],
      "metadata": {
        "colab": {
          "base_uri": "https://localhost:8080/"
        },
        "id": "TqbEWMua_LlM",
        "outputId": "63ae85da-e031-40d0-962c-73887833516d"
      },
      "execution_count": 1,
      "outputs": [
        {
          "output_type": "stream",
          "name": "stdout",
          "text": [
            "Requirement already satisfied: planqk-quantum in /usr/local/lib/python3.12/dist-packages (2.24.0)\n",
            "Requirement already satisfied: pydantic<2.10,>=2.5.0 in /usr/local/lib/python3.12/dist-packages (from planqk-quantum) (2.9.2)\n",
            "Requirement already satisfied: qiskit==1.4.3 in /usr/local/lib/python3.12/dist-packages (from planqk-quantum) (1.4.3)\n",
            "Requirement already satisfied: qiskit-braket-provider==0.4.6 in /usr/local/lib/python3.12/dist-packages (from planqk-quantum) (0.4.6)\n",
            "Requirement already satisfied: qiskit-ibm-runtime==0.41.1 in /usr/local/lib/python3.12/dist-packages (from planqk-quantum) (0.41.1)\n",
            "Requirement already satisfied: qiskit-ionq==0.5.13 in /usr/local/lib/python3.12/dist-packages (from planqk-quantum) (0.5.13)\n",
            "Requirement already satisfied: requests>=2.32.4 in /usr/local/lib/python3.12/dist-packages (from planqk-quantum) (2.32.4)\n",
            "Requirement already satisfied: rustworkx>=0.15.0 in /usr/local/lib/python3.12/dist-packages (from qiskit==1.4.3->planqk-quantum) (0.17.1)\n",
            "Requirement already satisfied: numpy<3,>=1.17 in /usr/local/lib/python3.12/dist-packages (from qiskit==1.4.3->planqk-quantum) (2.0.2)\n",
            "Requirement already satisfied: scipy>=1.5 in /usr/local/lib/python3.12/dist-packages (from qiskit==1.4.3->planqk-quantum) (1.16.2)\n",
            "Requirement already satisfied: sympy>=1.3 in /usr/local/lib/python3.12/dist-packages (from qiskit==1.4.3->planqk-quantum) (1.13.3)\n",
            "Requirement already satisfied: dill>=0.3 in /usr/local/lib/python3.12/dist-packages (from qiskit==1.4.3->planqk-quantum) (0.3.8)\n",
            "Requirement already satisfied: python-dateutil>=2.8.0 in /usr/local/lib/python3.12/dist-packages (from qiskit==1.4.3->planqk-quantum) (2.9.0.post0)\n",
            "Requirement already satisfied: stevedore>=3.0.0 in /usr/local/lib/python3.12/dist-packages (from qiskit==1.4.3->planqk-quantum) (5.5.0)\n",
            "Requirement already satisfied: typing-extensions in /usr/local/lib/python3.12/dist-packages (from qiskit==1.4.3->planqk-quantum) (4.15.0)\n",
            "Requirement already satisfied: symengine<0.14,>=0.11 in /usr/local/lib/python3.12/dist-packages (from qiskit==1.4.3->planqk-quantum) (0.13.0)\n",
            "Requirement already satisfied: certifi>=2021.5.30 in /usr/local/lib/python3.12/dist-packages (from qiskit-braket-provider==0.4.6->planqk-quantum) (2025.10.5)\n",
            "Requirement already satisfied: amazon-braket-sdk>=1.76.0 in /usr/local/lib/python3.12/dist-packages (from qiskit-braket-provider==0.4.6->planqk-quantum) (1.103.0)\n",
            "Requirement already satisfied: setuptools>=40.1.0 in /usr/local/lib/python3.12/dist-packages (from qiskit-braket-provider==0.4.6->planqk-quantum) (75.2.0)\n",
            "Requirement already satisfied: requests-ntlm>=1.1.0 in /usr/local/lib/python3.12/dist-packages (from qiskit-ibm-runtime==0.41.1->planqk-quantum) (1.3.0)\n",
            "Requirement already satisfied: urllib3>=1.21.1 in /usr/local/lib/python3.12/dist-packages (from qiskit-ibm-runtime==0.41.1->planqk-quantum) (2.5.0)\n",
            "Requirement already satisfied: ibm-platform-services>=0.22.6 in /usr/local/lib/python3.12/dist-packages (from qiskit-ibm-runtime==0.41.1->planqk-quantum) (0.70.0)\n",
            "Requirement already satisfied: packaging in /usr/local/lib/python3.12/dist-packages (from qiskit-ibm-runtime==0.41.1->planqk-quantum) (25.0)\n",
            "Requirement already satisfied: decorator>=5.1.0 in /usr/local/lib/python3.12/dist-packages (from qiskit-ionq==0.5.13->planqk-quantum) (5.2.1)\n",
            "Requirement already satisfied: importlib-metadata>=4.11.4 in /usr/local/lib/python3.12/dist-packages (from qiskit-ionq==0.5.13->planqk-quantum) (8.7.0)\n",
            "Requirement already satisfied: python-dotenv>=1.0.1 in /usr/local/lib/python3.12/dist-packages (from qiskit-ionq==0.5.13->planqk-quantum) (1.1.1)\n",
            "Requirement already satisfied: annotated-types>=0.6.0 in /usr/local/lib/python3.12/dist-packages (from pydantic<2.10,>=2.5.0->planqk-quantum) (0.7.0)\n",
            "Requirement already satisfied: pydantic-core==2.23.4 in /usr/local/lib/python3.12/dist-packages (from pydantic<2.10,>=2.5.0->planqk-quantum) (2.23.4)\n",
            "Requirement already satisfied: charset_normalizer<4,>=2 in /usr/local/lib/python3.12/dist-packages (from requests>=2.32.4->planqk-quantum) (3.4.4)\n",
            "Requirement already satisfied: idna<4,>=2.5 in /usr/local/lib/python3.12/dist-packages (from requests>=2.32.4->planqk-quantum) (3.11)\n",
            "Requirement already satisfied: amazon-braket-schemas>=1.26.1 in /usr/local/lib/python3.12/dist-packages (from amazon-braket-sdk>=1.76.0->qiskit-braket-provider==0.4.6->planqk-quantum) (1.26.1)\n",
            "Requirement already satisfied: amazon-braket-default-simulator>=1.32.0 in /usr/local/lib/python3.12/dist-packages (from amazon-braket-sdk>=1.76.0->qiskit-braket-provider==0.4.6->planqk-quantum) (1.32.0)\n",
            "Requirement already satisfied: oqpy~=0.3.7 in /usr/local/lib/python3.12/dist-packages (from amazon-braket-sdk>=1.76.0->qiskit-braket-provider==0.4.6->planqk-quantum) (0.3.9)\n",
            "Requirement already satisfied: backoff in /usr/local/lib/python3.12/dist-packages (from amazon-braket-sdk>=1.76.0->qiskit-braket-provider==0.4.6->planqk-quantum) (2.2.1)\n",
            "Requirement already satisfied: boltons in /usr/local/lib/python3.12/dist-packages (from amazon-braket-sdk>=1.76.0->qiskit-braket-provider==0.4.6->planqk-quantum) (25.0.0)\n",
            "Requirement already satisfied: boto3>=1.28.53 in /usr/local/lib/python3.12/dist-packages (from amazon-braket-sdk>=1.76.0->qiskit-braket-provider==0.4.6->planqk-quantum) (1.40.60)\n",
            "Requirement already satisfied: cloudpickle==2.2.1 in /usr/local/lib/python3.12/dist-packages (from amazon-braket-sdk>=1.76.0->qiskit-braket-provider==0.4.6->planqk-quantum) (2.2.1)\n",
            "Requirement already satisfied: nest-asyncio in /usr/local/lib/python3.12/dist-packages (from amazon-braket-sdk>=1.76.0->qiskit-braket-provider==0.4.6->planqk-quantum) (1.6.0)\n",
            "Requirement already satisfied: networkx in /usr/local/lib/python3.12/dist-packages (from amazon-braket-sdk>=1.76.0->qiskit-braket-provider==0.4.6->planqk-quantum) (3.5)\n",
            "Requirement already satisfied: openpulse in /usr/local/lib/python3.12/dist-packages (from amazon-braket-sdk>=1.76.0->qiskit-braket-provider==0.4.6->planqk-quantum) (1.0.1)\n",
            "Requirement already satisfied: openqasm3 in /usr/local/lib/python3.12/dist-packages (from amazon-braket-sdk>=1.76.0->qiskit-braket-provider==0.4.6->planqk-quantum) (1.0.1)\n",
            "Requirement already satisfied: backports.entry-points-selectable in /usr/local/lib/python3.12/dist-packages (from amazon-braket-sdk>=1.76.0->qiskit-braket-provider==0.4.6->planqk-quantum) (1.3.0)\n",
            "Requirement already satisfied: ibm_cloud_sdk_core<4.0.0,>=3.24.2 in /usr/local/lib/python3.12/dist-packages (from ibm-platform-services>=0.22.6->qiskit-ibm-runtime==0.41.1->planqk-quantum) (3.24.2)\n",
            "Requirement already satisfied: zipp>=3.20 in /usr/local/lib/python3.12/dist-packages (from importlib-metadata>=4.11.4->qiskit-ionq==0.5.13->planqk-quantum) (3.23.0)\n",
            "Requirement already satisfied: six>=1.5 in /usr/local/lib/python3.12/dist-packages (from python-dateutil>=2.8.0->qiskit==1.4.3->planqk-quantum) (1.17.0)\n",
            "Requirement already satisfied: cryptography>=1.3 in /usr/local/lib/python3.12/dist-packages (from requests-ntlm>=1.1.0->qiskit-ibm-runtime==0.41.1->planqk-quantum) (43.0.3)\n",
            "Requirement already satisfied: pyspnego>=0.4.0 in /usr/local/lib/python3.12/dist-packages (from requests-ntlm>=1.1.0->qiskit-ibm-runtime==0.41.1->planqk-quantum) (0.12.0)\n",
            "Requirement already satisfied: mpmath<1.4,>=1.1.0 in /usr/local/lib/python3.12/dist-packages (from sympy>=1.3->qiskit==1.4.3->planqk-quantum) (1.3.0)\n",
            "Requirement already satisfied: numba in /usr/local/lib/python3.12/dist-packages (from amazon-braket-default-simulator>=1.32.0->amazon-braket-sdk>=1.76.0->qiskit-braket-provider==0.4.6->planqk-quantum) (0.60.0)\n",
            "Requirement already satisfied: opt_einsum in /usr/local/lib/python3.12/dist-packages (from amazon-braket-default-simulator>=1.32.0->amazon-braket-sdk>=1.76.0->qiskit-braket-provider==0.4.6->planqk-quantum) (3.4.0)\n",
            "Requirement already satisfied: antlr4-python3-runtime==4.13.2 in /usr/local/lib/python3.12/dist-packages (from amazon-braket-default-simulator>=1.32.0->amazon-braket-sdk>=1.76.0->qiskit-braket-provider==0.4.6->planqk-quantum) (4.13.2)\n",
            "Requirement already satisfied: botocore<1.41.0,>=1.40.60 in /usr/local/lib/python3.12/dist-packages (from boto3>=1.28.53->amazon-braket-sdk>=1.76.0->qiskit-braket-provider==0.4.6->planqk-quantum) (1.40.60)\n",
            "Requirement already satisfied: jmespath<2.0.0,>=0.7.1 in /usr/local/lib/python3.12/dist-packages (from boto3>=1.28.53->amazon-braket-sdk>=1.76.0->qiskit-braket-provider==0.4.6->planqk-quantum) (1.0.1)\n",
            "Requirement already satisfied: s3transfer<0.15.0,>=0.14.0 in /usr/local/lib/python3.12/dist-packages (from boto3>=1.28.53->amazon-braket-sdk>=1.76.0->qiskit-braket-provider==0.4.6->planqk-quantum) (0.14.0)\n",
            "Requirement already satisfied: cffi>=1.12 in /usr/local/lib/python3.12/dist-packages (from cryptography>=1.3->requests-ntlm>=1.1.0->qiskit-ibm-runtime==0.41.1->planqk-quantum) (2.0.0)\n",
            "Requirement already satisfied: PyJWT<3.0.0,>=2.10.1 in /usr/local/lib/python3.12/dist-packages (from ibm_cloud_sdk_core<4.0.0,>=3.24.2->ibm-platform-services>=0.22.6->qiskit-ibm-runtime==0.41.1->planqk-quantum) (2.10.1)\n",
            "Requirement already satisfied: mypy-extensions>=0.2.0 in /usr/local/lib/python3.12/dist-packages (from oqpy~=0.3.7->amazon-braket-sdk>=1.76.0->qiskit-braket-provider==0.4.6->planqk-quantum) (1.1.0)\n",
            "Requirement already satisfied: pycparser in /usr/local/lib/python3.12/dist-packages (from cffi>=1.12->cryptography>=1.3->requests-ntlm>=1.1.0->qiskit-ibm-runtime==0.41.1->planqk-quantum) (2.23)\n",
            "Requirement already satisfied: llvmlite<0.44,>=0.43.0dev0 in /usr/local/lib/python3.12/dist-packages (from numba->amazon-braket-default-simulator>=1.32.0->amazon-braket-sdk>=1.76.0->qiskit-braket-provider==0.4.6->planqk-quantum) (0.43.0)\n"
          ]
        }
      ]
    },
    {
      "cell_type": "markdown",
      "source": [
        "## Run your first quantum program using Qiskit\n",
        "To run a Qiskit program, all you need is an account and three lines of Quantum code.\n"
      ],
      "metadata": {
        "id": "pcQwPEyO_PTU"
      }
    },
    {
      "cell_type": "code",
      "source": [
        "# Use the Colab secrets manager to set the environment variable\n",
        "from google.colab import userdata\n",
        "import os\n",
        "\n",
        "# Set your access token in the Colab secrets manager and access it here\n",
        "os.environ[\"PLANQK_PERSONAL_ACCESS_TOKEN\"] = userdata.get('PLANQK_PERSONAL_ACCESS_TOKEN')"
      ],
      "metadata": {
        "id": "Gl-eVqzGAtBB"
      },
      "execution_count": 2,
      "outputs": []
    },
    {
      "cell_type": "code",
      "source": [
        "# Coin Toss: Here we build a circuit (quantum algorithm) that performs n coin tosses on a\n",
        "# Quantum Computer. Instead of heads and tails, we work with 0s and 1s: there are 2^n possible\n",
        "# outcomes, and each time (number of shots) we measure the quantum state, we observe one of these outcomes.\n",
        "\n",
        "from planqk.qiskit import PlanqkQuantumProvider\n",
        "from qiskit import QuantumCircuit, transpile\n",
        "\n",
        "n_coin_tosses = 2\n",
        "\n",
        "circuit = QuantumCircuit(n_coin_tosses)\n",
        "for i in range(n_coin_tosses):\n",
        "    circuit.h(i)\n",
        "circuit.measure_all()\n",
        "\n",
        "# Use the PLANQK CLI and log in with \"planqk login\" or set the environment variable PLANQK_PERSONAL_ACCESS_TOKEN.\n",
        "# Alternatively, you can pass the access token as an argument to the constructor\n",
        "# provider = PlanqkQuantumProvider(access_token=access_token)\n",
        "provider = PlanqkQuantumProvider()\n",
        "\n",
        "# Select a quantum backend suitable for the task. All PLANQK supported quantum backends are\n",
        "# listed at https://platform.planqk.de/quantum-backends.\n",
        "backend = provider.get_backend(\"azure.ionq.simulator\")\n",
        "\n",
        "# Transpile the circuit ...\n",
        "circuit = transpile(circuit, backend)\n",
        "# ... and run it on the backend\n",
        "job = backend.run(circuit, shots=100)\n",
        "\n",
        "counts = job.result().get_counts()\n",
        "\n",
        "print(counts)"
      ],
      "metadata": {
        "colab": {
          "base_uri": "https://localhost:8080/"
        },
        "id": "hCXZBjLcAjHt",
        "outputId": "6fecc851-52e6-4e9b-f980-703d6e856ea9"
      },
      "execution_count": 3,
      "outputs": [
        {
          "output_type": "stream",
          "name": "stdout",
          "text": [
            "{np.str_('00'): np.int64(22), np.str_('01'): np.int64(21), np.str_('10'): np.int64(29), np.str_('11'): np.int64(28)}\n"
          ]
        }
      ]
    }
  ]
}